{
 "cells": [
  {
   "cell_type": "code",
   "execution_count": 1,
   "metadata": {},
   "outputs": [
    {
     "name": "stdout",
     "output_type": "stream",
     "text": [
      "287\n",
      "93\n",
      "282\n"
     ]
    },
    {
     "data": {
      "text/plain": [
       "Text(0.5, 1, 'Absenteeism rate for each BMI Category')"
      ]
     },
     "execution_count": 1,
     "metadata": {},
     "output_type": "execute_result"
    },
    {
     "data": {
      "image/png": "[encoded data removed]",
      "text/plain": [
       "<Figure size 432x288 with 1 Axes>"
      ]
     },
     "metadata": {
      "needs_background": "light"
     },
     "output_type": "display_data"
    }
   ],
   "source": [
    "import pandas as pd\n",
    "from matplotlib import pyplot as plt\n",
    "#Importing Absentees CSV\n",
    "df5 = pd.read_csv('absentees.csv')\n",
    "#Dropping duplicates\n",
    "df5 = df5.drop_duplicates() \n",
    "#Dropping rows with zero hours of absence\n",
    "df5 = df5.drop(df5[df5[\"Absenteeism time in hours\"]==0].index) \n",
    "#Group by ID to check unique BMI\n",
    "filt = df5.groupby(['ID']) \n",
    "filt['Body mass index'].value_counts() \n",
    "#Classifying employees based on BMI information retrieved from Health Hub \n",
    "lowrisk = 0\n",
    "middlerisk = 0\n",
    "highrisk = 0\n",
    "for each in df5['Body mass index']:\n",
    "    if each < 22.9:\n",
    "        lowrisk += 1\n",
    "    elif 22.9 <= each < 27.4:\n",
    "        middlerisk += 1\n",
    "    elif each >27.5: \n",
    "        highrisk += 1\n",
    "print(middlerisk)\n",
    "print(lowrisk)\n",
    "print(highrisk)\n",
    "#Plotting bar graph\n",
    "mc = [lowrisk, middlerisk, highrisk]\n",
    "risk =  ['Below 22.9', 'Between 22.9 & 27.4,', '>27.5']\n",
    "plt.bar(risk, mc, linestyle='--')\n",
    "plt.rcParams['figure.figsize'] = (15,10)\n",
    "plt.rcParams.update({'font.size': 10})\n",
    "plt.xlabel('Body Mass Index')\n",
    "plt.ylabel(\"Abstenteesim rate\")\n",
    "plt.savefig('numberofmc.png')\n",
    "plt.title('Absenteeism rate for each BMI Category')"
   ]
  },
  {
   "cell_type": "code",
   "execution_count": null,
   "metadata": {},
   "outputs": [],
   "source": []
  }
 ],
 "metadata": {
  "kernelspec": {
   "display_name": "Python 3",
   "language": "python",
   "name": "python3"
  },
  "language_info": {
   "codemirror_mode": {
    "name": "ipython",
    "version": 3
   },
   "file_extension": ".py",
   "mimetype": "text/x-python",
   "name": "python",
   "nbconvert_exporter": "python",
   "pygments_lexer": "ipython3",
   "version": "3.7.6"
  }
 },
 "nbformat": 4,
 "nbformat_minor": 4
}
